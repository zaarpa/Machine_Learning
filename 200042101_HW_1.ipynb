{
  "nbformat": 4,
  "nbformat_minor": 0,
  "metadata": {
    "colab": {
      "provenance": [],
      "authorship_tag": "ABX9TyN9ftdc1Ie1U3YeFbzGJHMG",
      "include_colab_link": true
    },
    "kernelspec": {
      "name": "python3",
      "display_name": "Python 3"
    },
    "language_info": {
      "name": "python"
    }
  },
  "cells": [
    {
      "cell_type": "markdown",
      "metadata": {
        "id": "view-in-github",
        "colab_type": "text"
      },
      "source": [
        "<a href=\"https://colab.research.google.com/github/zaarpa/Assignment_200042101/blob/main/200042101_HW_1.ipynb\" target=\"_parent\"><img src=\"https://colab.research.google.com/assets/colab-badge.svg\" alt=\"Open In Colab\"/></a>"
      ]
    },
    {
      "cell_type": "markdown",
      "source": [
        "**Task:3.1.1**\n",
        "\n",
        "\n",
        "---\n",
        "Using the dot() method we can perform matrix multiplication. I have stored the A.dot(B) in C and printed it.\n"
      ],
      "metadata": {
        "id": "keTAcEoXoYDS"
      }
    },
    {
      "cell_type": "code",
      "execution_count": 11,
      "metadata": {
        "colab": {
          "base_uri": "https://localhost:8080/"
        },
        "id": "51HtCJfzoC2I",
        "outputId": "e5b703e8-4577-45b6-b423-103920681ddf"
      },
      "outputs": [
        {
          "output_type": "stream",
          "name": "stdout",
          "text": [
            "A:\n",
            " [[0 0]\n",
            " [2 1]]\n",
            "B:\n",
            " [[2 0]\n",
            " [2 0]]\n",
            "C:\n",
            " [[0 0]\n",
            " [6 0]]\n"
          ]
        }
      ],
      "source": [
        "import numpy as np\n",
        "A = np.random.randint(0,4,size=(2,2))\n",
        "B = np.random.randint(0,4,size=(2,2))\n",
        "print(\"A:\\n\",A)\n",
        "print(\"B:\\n\",B)\n",
        "C = A.dot(B)\n",
        "print(\"C:\\n\",C)"
      ]
    },
    {
      "cell_type": "markdown",
      "source": [
        "**Task:3.1.2**\n",
        "\n",
        "---\n",
        "Suppose, C = [[1, 2, 3], [4, 5, 6], [7, 8, 9]]\n",
        "D = [[9, 8, 7], [6, 5, 4], [3, 2, 1]]\n",
        "\n",
        "Now we will manually calculate the matrix multiplication of C and D:\n",
        "\n",
        "First row and first column:\n",
        "\n",
        "CD[0][0] = (1 * 9) + (2 * 6) + (3 * 3) = 9 + 12 + 9 = 30\n",
        "\n",
        "First row and second column:\n",
        "\n",
        "CD[0][1] = (1 * 8) + (2 * 5) + (3 * 2) = 8 + 10 + 6 = 24\n",
        "\n",
        "Similarly we calculate other elements of CD:\n",
        "CD[0][2] = 18\n",
        "\n",
        "CD[1][0] = 84\n",
        "\n",
        "CD[1][1] = 69\n",
        "\n",
        "CD[1][2] = 54\n",
        "\n",
        "CD[2][0] = 138\n",
        "\n",
        "CD[2][1] = 114\n",
        "\n",
        "CD[2][2] = 90\n",
        "\n",
        "So, CD = [[30, 24, 18], [84, 69, 54], [138, 114, 90]]\n",
        "\n",
        "We can see from the output that both are the same."
      ],
      "metadata": {
        "id": "Yz-TNbRZp-Ys"
      }
    },
    {
      "cell_type": "code",
      "source": [
        "import numpy as np\n",
        "\n",
        "C = np.array([[1, 2, 3], [4, 5, 6], [7, 8, 9]])\n",
        "D = np.array([[9, 8, 7], [6, 5, 4], [3, 2, 1]])\n",
        "\n",
        "CD = C.dot(D)\n",
        "\n",
        "print(CD)"
      ],
      "metadata": {
        "colab": {
          "base_uri": "https://localhost:8080/"
        },
        "id": "DqKEvTT8qRiT",
        "outputId": "7cc5975c-4872-41a2-ea44-110e53b037a8"
      },
      "execution_count": 2,
      "outputs": [
        {
          "output_type": "stream",
          "name": "stdout",
          "text": [
            "[[ 30  24  18]\n",
            " [ 84  69  54]\n",
            " [138 114  90]]\n"
          ]
        }
      ]
    },
    {
      "cell_type": "markdown",
      "source": [
        "**Task:3.1.3**\n",
        "\n",
        "---\n",
        "I have transposed the matrix A using the transpose() method of numpy. Then performerd the dot operation."
      ],
      "metadata": {
        "id": "6trCmNfDtR-x"
      }
    },
    {
      "cell_type": "code",
      "source": [
        "import numpy as np\n",
        "A = np.array([[1,2,3],[4,5,6]])\n",
        "AT = A.transpose()\n",
        "#print(AT)\n",
        "ATA = AT.dot(A)\n",
        "\n",
        "print(ATA)"
      ],
      "metadata": {
        "colab": {
          "base_uri": "https://localhost:8080/"
        },
        "id": "PY6d-72ruLp3",
        "outputId": "22010df9-2696-48a9-f8cc-9d3c7668d0c6"
      },
      "execution_count": 5,
      "outputs": [
        {
          "output_type": "stream",
          "name": "stdout",
          "text": [
            "[[17 22 27]\n",
            " [22 29 36]\n",
            " [27 36 45]]\n"
          ]
        }
      ]
    },
    {
      "cell_type": "markdown",
      "source": [
        "**Task:3.1.4**\n",
        "\n",
        "---\n",
        "At first I have generated two random matrices by the given dimension. Then I have performed the matrix multiplication using dot() method. To know the dimension of the resulting matrix I have used shape() method.\n",
        "\n"
      ],
      "metadata": {
        "id": "0gP9JVljvBLp"
      }
    },
    {
      "cell_type": "code",
      "source": [
        "import numpy as np\n",
        "A = np.random.randint(0, 6, size=(3, 2))\n",
        "B = np.random.randint(0, 8, size=(4, 3))\n",
        "print(\"A:\\n\")\n",
        "print(A)\n",
        "print(\"\\nB:\")\n",
        "print(B)\n",
        "C = B.dot(A)\n",
        "print(\"\\nC:\")\n",
        "print(C)\n",
        "print(\"Dimensions of the resulting matrix:\")\n",
        "print(C.shape)"
      ],
      "metadata": {
        "colab": {
          "base_uri": "https://localhost:8080/"
        },
        "id": "1LXLrjw9vAn2",
        "outputId": "4a7fc354-4dd8-4494-b4b3-89e737cd0561"
      },
      "execution_count": 14,
      "outputs": [
        {
          "output_type": "stream",
          "name": "stdout",
          "text": [
            "A:\n",
            "\n",
            "[[5 0]\n",
            " [0 0]\n",
            " [0 5]]\n",
            "\n",
            "B:\n",
            "[[2 0 3]\n",
            " [3 7 1]\n",
            " [2 6 5]\n",
            " [4 1 5]]\n",
            "\n",
            "C:\n",
            "[[10 15]\n",
            " [15  5]\n",
            " [10 25]\n",
            " [20 25]]\n",
            "Dimensions of the resulting matrix:\n",
            "(4, 2)\n"
          ]
        }
      ]
    },
    {
      "cell_type": "markdown",
      "source": [
        "**Task:3.1.5**\n",
        "\n",
        "---\n",
        "np.dot() is another type of finding out the multiplication of matrix. I have used array_equal method() to find out if both of the resulting arrays after dot operation are equal or not. Using an if statment I showed the correct output.\n"
      ],
      "metadata": {
        "id": "GTn2gf7FyWKL"
      }
    },
    {
      "cell_type": "code",
      "source": [
        "import numpy as np\n",
        "A = np.random.randint(1,6, size=(2,2))\n",
        "B = np.random.randint(1,6, size=(2,2))\n",
        "AB = np.dot(A,B)\n",
        "BA = np.dot(B,A)\n",
        "if np.array_equal(AB, BA):\n",
        "  print(\"A · B is equal to B · A\")\n",
        "else:\n",
        "  print(\"A · B is NOT equal to B · A\")\n",
        "print(\"A:\")\n",
        "print(A)\n",
        "print(\"\\nB:\")\n",
        "print(B)\n",
        "print(\"\\nA · B:\")\n",
        "print(AB)\n",
        "print(\"\\nB · A:\")\n",
        "print(BA)"
      ],
      "metadata": {
        "colab": {
          "base_uri": "https://localhost:8080/"
        },
        "id": "8yqdE6QoyV77",
        "outputId": "f8abe4f8-1567-4eb1-ed42-2280acb01833"
      },
      "execution_count": 15,
      "outputs": [
        {
          "output_type": "stream",
          "name": "stdout",
          "text": [
            "A · B is NOT equal to B · A\n",
            "A:\n",
            "[[3 2]\n",
            " [5 2]]\n",
            "\n",
            "B:\n",
            "[[4 2]\n",
            " [4 3]]\n",
            "\n",
            "A · B:\n",
            "[[20 12]\n",
            " [28 16]]\n",
            "\n",
            "B · A:\n",
            "[[22 12]\n",
            " [27 14]]\n"
          ]
        }
      ]
    },
    {
      "cell_type": "markdown",
      "source": [
        "**Task: 3.2.1**\n",
        "\n",
        "---\n",
        "In this task I had to use the csv file of IRIS dataset. I have used this by importing the file through google drive. Steps for loading the CSV file into a dataframe:\n",
        "\n",
        "1. Upload the CSV file in the drive\n",
        "2. Mount the google drive in colab by using drive.mount('/content/drive')\n",
        "3. Load the CSV file into Pandas dataframe by writing the path of your csv file in the drive.\n",
        "\n",
        "After loading the CSV file using head() I have displayed the first 5 rows of the dataset. tail() method displays the last 5 rows. I have shown the rows and columns of the dataset using shape() method and finally the datatypes using dtypes method\n"
      ],
      "metadata": {
        "id": "TLzJzaU_08Fd"
      }
    },
    {
      "cell_type": "code",
      "source": [
        "from google.colab import drive\n",
        "import numpy as np\n",
        "import pandas as pd\n",
        "drive.mount('/content/drive')\n",
        "df = pd.read_csv('/content/drive/My Drive/Iris.csv')\n",
        "print(\"First 5 rows:\")\n",
        "print(df.head())  # Display the first 5 rows\n",
        "print(\"\\nLast 5 rows:\")\n",
        "print(df.tail())  # Display the last 5 rows\n",
        "print(\"\\nDataFrame shape:\")\n",
        "print(df.shape)    # Display the shape (rows, columns)\n",
        "print(\"\\nData types:\")\n",
        "print(df.dtypes)\n"
      ],
      "metadata": {
        "colab": {
          "base_uri": "https://localhost:8080/"
        },
        "id": "GCuLwIm_074b",
        "outputId": "606e614d-02d6-408f-9643-63b400c2f36b"
      },
      "execution_count": 18,
      "outputs": [
        {
          "output_type": "stream",
          "name": "stdout",
          "text": [
            "Drive already mounted at /content/drive; to attempt to forcibly remount, call drive.mount(\"/content/drive\", force_remount=True).\n",
            "First 5 rows:\n",
            "   Id  SepalLengthCm  SepalWidthCm  PetalLengthCm  PetalWidthCm      Species\n",
            "0   1            5.1           3.5            1.4           0.2  Iris-setosa\n",
            "1   2            4.9           3.0            1.4           0.2  Iris-setosa\n",
            "2   3            4.7           3.2            1.3           0.2  Iris-setosa\n",
            "3   4            4.6           3.1            1.5           0.2  Iris-setosa\n",
            "4   5            5.0           3.6            1.4           0.2  Iris-setosa\n",
            "\n",
            "Last 5 rows:\n",
            "      Id  SepalLengthCm  SepalWidthCm  PetalLengthCm  PetalWidthCm  \\\n",
            "145  146            6.7           3.0            5.2           2.3   \n",
            "146  147            6.3           2.5            5.0           1.9   \n",
            "147  148            6.5           3.0            5.2           2.0   \n",
            "148  149            6.2           3.4            5.4           2.3   \n",
            "149  150            5.9           3.0            5.1           1.8   \n",
            "\n",
            "            Species  \n",
            "145  Iris-virginica  \n",
            "146  Iris-virginica  \n",
            "147  Iris-virginica  \n",
            "148  Iris-virginica  \n",
            "149  Iris-virginica  \n",
            "\n",
            "DataFrame shape:\n",
            "(150, 6)\n",
            "\n",
            "Data types:\n",
            "Id                 int64\n",
            "SepalLengthCm    float64\n",
            "SepalWidthCm     float64\n",
            "PetalLengthCm    float64\n",
            "PetalWidthCm     float64\n",
            "Species           object\n",
            "dtype: object\n"
          ]
        }
      ]
    },
    {
      "cell_type": "markdown",
      "source": [
        "**Task:3.2.2**\n",
        "\n",
        "---\n",
        "\n",
        "I have loaded the IRIS dataframe in the previous task. Now I have selected the 'sepal length' column for plotting in a graph. I have imported matplotlib.pyplot for the help of creating plots and visualizations. Then I have selected the column from dataframe using df and stored in a variable named 'sepal_length'.\n",
        "\n",
        "plt.figure is used to create a new plotting figure and my figure will be 10 inches wide and 8 inches tall. Next I have created the histogram using plt.hist(). Here inside the function,\n",
        "1. sepal_length is the data to be plotted.\n",
        "2. bins=20 means the histogram is divided into 20 intervals\n",
        "3. edgecolor='k' sets the edge of the bars as color black.\n",
        "4. alpha sets the transparency of the bars for better visibility.\n",
        "\n",
        "After that I have added the title of the plot and labels of both of the axes.\n",
        "\n",
        "Finally plot.show() to display the plot."
      ],
      "metadata": {
        "id": "pMrOozoyKn_B"
      }
    },
    {
      "cell_type": "code",
      "source": [
        "import pandas as pd\n",
        "import matplotlib.pyplot as plt\n",
        "sepal_length = df[\"SepalLengthCm\"]\n",
        "plt.figure(figsize=(10, 8))\n",
        "plt.hist(sepal_length, bins=20, edgecolor='k', alpha=0.7)\n",
        "plt.title(\"Distribution of Sepal Length\")\n",
        "plt.xlabel(\"Sepal Length (cm)\")\n",
        "plt.ylabel(\"Frequency\")\n",
        "plt.show()"
      ],
      "metadata": {
        "colab": {
          "base_uri": "https://localhost:8080/",
          "height": 718
        },
        "id": "wYlQK-yBK7Qe",
        "outputId": "7b5793da-4a8a-4dda-9a90-62aac499a38d"
      },
      "execution_count": 24,
      "outputs": [
        {
          "output_type": "display_data",
          "data": {
            "text/plain": [
              "<Figure size 1000x800 with 1 Axes>"
            ],
            "image/png": "[encoded data removed]"
          },
          "metadata": {}
        }
      ]
    },
    {
      "cell_type": "markdown",
      "source": [
        "**Task:3.2.3**\n",
        "\n",
        "---\n",
        "Assuming I want to filter the dataframe to show the columns where sepal length is greater than 4.0.\n",
        "\n",
        "The inner df method creates a boolean mask where the columns meeting the condition are set to be True. The in the outer frame the rows are again filtered and includes the columns which are True."
      ],
      "metadata": {
        "id": "3iPZ84WqRNqT"
      }
    },
    {
      "cell_type": "code",
      "source": [
        "import pandas as pd\n",
        "filter_df = df[df[\"SepalLengthCm\"] > 4.0] #rows where sepal length is less than 5\n",
        "print(filter_df)"
      ],
      "metadata": {
        "colab": {
          "base_uri": "https://localhost:8080/"
        },
        "id": "Co7aITc7RSBm",
        "outputId": "e7f71ddf-73f0-4983-fb03-648ec18a87fe"
      },
      "execution_count": 27,
      "outputs": [
        {
          "output_type": "stream",
          "name": "stdout",
          "text": [
            "      Id  SepalLengthCm  SepalWidthCm  PetalLengthCm  PetalWidthCm  \\\n",
            "0      1            5.1           3.5            1.4           0.2   \n",
            "1      2            4.9           3.0            1.4           0.2   \n",
            "2      3            4.7           3.2            1.3           0.2   \n",
            "3      4            4.6           3.1            1.5           0.2   \n",
            "4      5            5.0           3.6            1.4           0.2   \n",
            "..   ...            ...           ...            ...           ...   \n",
            "145  146            6.7           3.0            5.2           2.3   \n",
            "146  147            6.3           2.5            5.0           1.9   \n",
            "147  148            6.5           3.0            5.2           2.0   \n",
            "148  149            6.2           3.4            5.4           2.3   \n",
            "149  150            5.9           3.0            5.1           1.8   \n",
            "\n",
            "            Species  \n",
            "0       Iris-setosa  \n",
            "1       Iris-setosa  \n",
            "2       Iris-setosa  \n",
            "3       Iris-setosa  \n",
            "4       Iris-setosa  \n",
            "..              ...  \n",
            "145  Iris-virginica  \n",
            "146  Iris-virginica  \n",
            "147  Iris-virginica  \n",
            "148  Iris-virginica  \n",
            "149  Iris-virginica  \n",
            "\n",
            "[150 rows x 6 columns]\n"
          ]
        }
      ]
    },
    {
      "cell_type": "markdown",
      "source": [
        "**Task:3.2.4**\n",
        "\n",
        "---\n",
        "To calculate the summary statistics(mean, max, min, standard deviation etc) I have used the describe() method.\n",
        "\n",
        "Applying this method we get a series of values which represents the summary of the whole dataset. In the output we see a table of summary statistics for each numerical column in the DataFrame which includes:\n",
        "\n",
        "1. Count: Number of non-null values.\n",
        "2. Mean : Average value\n",
        "3. Std: Standard Deviation which measures the dispersion of the data.\n",
        "4. Min: The minimum value\n",
        "5. Max: The maximum value.\n",
        "6. 25%: The first quartile\n",
        "7. 50%: The median\n",
        "8. 75%: Third quartile\n",
        "\n"
      ],
      "metadata": {
        "id": "KuuzCT2HSyyR"
      }
    },
    {
      "cell_type": "code",
      "source": [
        "import pandas as pd\n",
        "summary_statistics= df.describe()\n",
        "print(summary_statistics)"
      ],
      "metadata": {
        "colab": {
          "base_uri": "https://localhost:8080/"
        },
        "id": "gp4eyereTEXl",
        "outputId": "e5c993bd-5d37-4f59-a4f9-2fe230c116ea"
      },
      "execution_count": 28,
      "outputs": [
        {
          "output_type": "stream",
          "name": "stdout",
          "text": [
            "               Id  SepalLengthCm  SepalWidthCm  PetalLengthCm  PetalWidthCm\n",
            "count  150.000000     150.000000    150.000000     150.000000    150.000000\n",
            "mean    75.500000       5.843333      3.054000       3.758667      1.198667\n",
            "std     43.445368       0.828066      0.433594       1.764420      0.763161\n",
            "min      1.000000       4.300000      2.000000       1.000000      0.100000\n",
            "25%     38.250000       5.100000      2.800000       1.600000      0.300000\n",
            "50%     75.500000       5.800000      3.000000       4.350000      1.300000\n",
            "75%    112.750000       6.400000      3.300000       5.100000      1.800000\n",
            "max    150.000000       7.900000      4.400000       6.900000      2.500000\n"
          ]
        }
      ]
    },
    {
      "cell_type": "markdown",
      "source": [
        "**Task:3.2.5**\n",
        "\n",
        "---\n",
        "Using df.groupby() I have grouped the datagram by the \"Species\" column and a grouped dataframe is created.\n",
        "\n",
        "The .agg() method calculated aggregates within each group. Inside the method I have specified which columns I want to aggregate along with the aggregate function. Here I have used the mean and count function. We can also use other aggregate functions like this."
      ],
      "metadata": {
        "id": "fbw9qw80Uel8"
      }
    },
    {
      "cell_type": "code",
      "source": [
        "import pandas as pd\n",
        "grouped_dataframe = df.groupby(\"Species\")\n",
        "aggregated_column_mean = grouped_dataframe.agg({\n",
        "    \"SepalLengthCm\" : \"mean\",\n",
        "    \"SepalWidthCm\" : \"mean\"\n",
        "}\n",
        ")\n",
        "aggregated_column_count = grouped_dataframe.agg({\n",
        "    \"SepalLengthCm\" : \"count\",\n",
        "    \"SepalWidthCm\" : \"count\"\n",
        "}\n",
        ")\n",
        "print(aggregated_column_mean)\n",
        "print(aggregated_column_count)"
      ],
      "metadata": {
        "colab": {
          "base_uri": "https://localhost:8080/"
        },
        "id": "Qn2WmxbXU5D3",
        "outputId": "c9f5555d-02ef-4034-dcfa-722e592e5951"
      },
      "execution_count": 32,
      "outputs": [
        {
          "output_type": "stream",
          "name": "stdout",
          "text": [
            "                 SepalLengthCm  SepalWidthCm\n",
            "Species                                     \n",
            "Iris-setosa              5.006         3.418\n",
            "Iris-versicolor          5.936         2.770\n",
            "Iris-virginica           6.588         2.974\n",
            "                 SepalLengthCm  SepalWidthCm\n",
            "Species                                     \n",
            "Iris-setosa                 50            50\n",
            "Iris-versicolor             50            50\n",
            "Iris-virginica              50            50\n"
          ]
        }
      ]
    },
    {
      "cell_type": "markdown",
      "source": [
        "Task:3.2.6\n",
        "\n",
        "---\n",
        "The df.sort_values() method sorts the dataframe in ascending order by default and we need to write the column name by which we want to sort. If we add ascending=False in the method the dataframe will be sorted in a descending order by the specific column we want.\n"
      ],
      "metadata": {
        "id": "OyYi7jfnWqk_"
      }
    },
    {
      "cell_type": "code",
      "source": [
        "import pandas as pd\n",
        "sorted_dataframe_asc = df.sort_values(by=\"SepalLengthCm\")\n",
        "sorted_dataframe_desc = df.sort_values(by=\"SepalLengthCm\", ascending=False)\n",
        "print(sorted_dataframe_asc)\n",
        "print(sorted_dataframe_desc)"
      ],
      "metadata": {
        "colab": {
          "base_uri": "https://localhost:8080/"
        },
        "id": "pSIFWuVOW2-Y",
        "outputId": "bd18c7ea-036a-4f4a-8121-bca8df5a443e"
      },
      "execution_count": 33,
      "outputs": [
        {
          "output_type": "stream",
          "name": "stdout",
          "text": [
            "      Id  SepalLengthCm  SepalWidthCm  PetalLengthCm  PetalWidthCm  \\\n",
            "13    14            4.3           3.0            1.1           0.1   \n",
            "42    43            4.4           3.2            1.3           0.2   \n",
            "38    39            4.4           3.0            1.3           0.2   \n",
            "8      9            4.4           2.9            1.4           0.2   \n",
            "41    42            4.5           2.3            1.3           0.3   \n",
            "..   ...            ...           ...            ...           ...   \n",
            "122  123            7.7           2.8            6.7           2.0   \n",
            "118  119            7.7           2.6            6.9           2.3   \n",
            "117  118            7.7           3.8            6.7           2.2   \n",
            "135  136            7.7           3.0            6.1           2.3   \n",
            "131  132            7.9           3.8            6.4           2.0   \n",
            "\n",
            "            Species  \n",
            "13      Iris-setosa  \n",
            "42      Iris-setosa  \n",
            "38      Iris-setosa  \n",
            "8       Iris-setosa  \n",
            "41      Iris-setosa  \n",
            "..              ...  \n",
            "122  Iris-virginica  \n",
            "118  Iris-virginica  \n",
            "117  Iris-virginica  \n",
            "135  Iris-virginica  \n",
            "131  Iris-virginica  \n",
            "\n",
            "[150 rows x 6 columns]\n",
            "      Id  SepalLengthCm  SepalWidthCm  PetalLengthCm  PetalWidthCm  \\\n",
            "131  132            7.9           3.8            6.4           2.0   \n",
            "135  136            7.7           3.0            6.1           2.3   \n",
            "122  123            7.7           2.8            6.7           2.0   \n",
            "117  118            7.7           3.8            6.7           2.2   \n",
            "118  119            7.7           2.6            6.9           2.3   \n",
            "..   ...            ...           ...            ...           ...   \n",
            "41    42            4.5           2.3            1.3           0.3   \n",
            "42    43            4.4           3.2            1.3           0.2   \n",
            "38    39            4.4           3.0            1.3           0.2   \n",
            "8      9            4.4           2.9            1.4           0.2   \n",
            "13    14            4.3           3.0            1.1           0.1   \n",
            "\n",
            "            Species  \n",
            "131  Iris-virginica  \n",
            "135  Iris-virginica  \n",
            "122  Iris-virginica  \n",
            "117  Iris-virginica  \n",
            "118  Iris-virginica  \n",
            "..              ...  \n",
            "41      Iris-setosa  \n",
            "42      Iris-setosa  \n",
            "38      Iris-setosa  \n",
            "8       Iris-setosa  \n",
            "13      Iris-setosa  \n",
            "\n",
            "[150 rows x 6 columns]\n"
          ]
        }
      ]
    },
    {
      "cell_type": "markdown",
      "source": [
        "**Task:3.2.7**\n",
        "\n",
        "---\n",
        "At first I have imported the iris dataframe from sklearn.datasets.\n",
        "After loading the dataset into df. Using random.randint from numpy I have replaced some random values with some missing values.\n",
        "\n",
        "df.loc() method can select a data from random_indices of sepal length. Then I have shown the first few values using head() method. After that I have filled the missing values with the mean of the column using df.fillna() method. This concludes the process of filling missing values.\n",
        "\n",
        "There is another process of handling missing values which is dropping missing values.\n",
        "\n",
        "Here I have used df.dropna() method. This method drop rows which contains missing values. So the df_droppedVal doesn't contain any missing value rows. Finally I have printed some values of the dataset.  "
      ],
      "metadata": {
        "id": "OXdfEfv3X6OX"
      }
    },
    {
      "cell_type": "code",
      "source": [
        "import pandas as pd\n",
        "from sklearn.datasets import load_iris\n",
        "import numpy as np\n",
        "\n",
        "iris = load_iris() #loading the dataset\n",
        "df = pd.DataFrame(data=iris.data, columns=iris.feature_names)\n",
        "random_indices = np.random.randint(0, len(df), size=(10,)) #replace some values with Nan to introduce missing values\n",
        "df.loc[random_indices, 'sepal length (cm)'] = np.nan\n",
        "df.loc[random_indices, 'sepal width (cm)'] = np.nan\n",
        "print(\"DataFrame with Missing Values:\") #showing dataframe with missing values\n",
        "print(df.head(10))\n",
        "#Filling Missing Values:\n",
        "df_newVal = df.fillna(df.mean()) #filling the missing values with the mean of the column\n",
        "print(\"\\nDataFrame after Filling Missing Values with Column Mean:\")\n",
        "print(df_newVal.head(10))\n",
        "#Dropping Missing Values:\n",
        "df_droppedVal = df.dropna()\n",
        "print(\"\\nDataFrame after Dropping Rows with Missing Values:\")\n",
        "print(df_droppedVal.head(10))"
      ],
      "metadata": {
        "colab": {
          "base_uri": "https://localhost:8080/"
        },
        "id": "AEXj4EGSYije",
        "outputId": "4266616b-1017-433e-9379-17aecbbf2a7f"
      },
      "execution_count": 44,
      "outputs": [
        {
          "output_type": "stream",
          "name": "stdout",
          "text": [
            "DataFrame with Missing Values:\n",
            "   sepal length (cm)  sepal width (cm)  petal length (cm)  petal width (cm)\n",
            "0                5.1               3.5                1.4               0.2\n",
            "1                4.9               3.0                1.4               0.2\n",
            "2                4.7               3.2                1.3               0.2\n",
            "3                4.6               3.1                1.5               0.2\n",
            "4                5.0               3.6                1.4               0.2\n",
            "5                5.4               3.9                1.7               0.4\n",
            "6                4.6               3.4                1.4               0.3\n",
            "7                5.0               3.4                1.5               0.2\n",
            "8                4.4               2.9                1.4               0.2\n",
            "9                4.9               3.1                1.5               0.1\n",
            "\n",
            "DataFrame after Filling Missing Values with Column Mean:\n",
            "   sepal length (cm)  sepal width (cm)  petal length (cm)  petal width (cm)\n",
            "0                5.1               3.5                1.4               0.2\n",
            "1                4.9               3.0                1.4               0.2\n",
            "2                4.7               3.2                1.3               0.2\n",
            "3                4.6               3.1                1.5               0.2\n",
            "4                5.0               3.6                1.4               0.2\n",
            "5                5.4               3.9                1.7               0.4\n",
            "6                4.6               3.4                1.4               0.3\n",
            "7                5.0               3.4                1.5               0.2\n",
            "8                4.4               2.9                1.4               0.2\n",
            "9                4.9               3.1                1.5               0.1\n",
            "\n",
            "DataFrame after Dropping Rows with Missing Values:\n",
            "   sepal length (cm)  sepal width (cm)  petal length (cm)  petal width (cm)\n",
            "0                5.1               3.5                1.4               0.2\n",
            "1                4.9               3.0                1.4               0.2\n",
            "2                4.7               3.2                1.3               0.2\n",
            "3                4.6               3.1                1.5               0.2\n",
            "4                5.0               3.6                1.4               0.2\n",
            "5                5.4               3.9                1.7               0.4\n",
            "6                4.6               3.4                1.4               0.3\n",
            "7                5.0               3.4                1.5               0.2\n",
            "8                4.4               2.9                1.4               0.2\n",
            "9                4.9               3.1                1.5               0.1\n"
          ]
        }
      ]
    }
  ]
}