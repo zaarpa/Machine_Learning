{
  "nbformat": 4,
  "nbformat_minor": 0,
  "metadata": {
    "colab": {
      "provenance": []
    },
    "kernelspec": {
      "name": "python3",
      "display_name": "Python 3"
    },
    "language_info": {
      "name": "python"
    }
  },
  "cells": [
    {
      "cell_type": "markdown",
      "source": [
        "**Task:1**"
      ],
      "metadata": {
        "id": "PNu0ulqPGdAT"
      }
    },
    {
      "cell_type": "code",
      "execution_count": null,
      "metadata": {
        "colab": {
          "base_uri": "https://localhost:8080/",
          "height": 786
        },
        "id": "bHRYOErREEmU",
        "outputId": "ad97bf3f-0027-449b-d5c4-b452972c335f"
      },
      "outputs": [
        {
          "output_type": "stream",
          "name": "stdout",
          "text": [
            "Drive already mounted at /content/drive; to attempt to forcibly remount, call drive.mount(\"/content/drive\", force_remount=True).\n",
            "   pelvic_incidence  pelvic_tilt numeric  lumbar_lordosis_angle  sacral_slope  \\\n",
            "0         63.027817            22.552586              39.609117     40.475232   \n",
            "1         39.056951            10.060991              25.015378     28.995960   \n",
            "2         68.832021            22.218482              50.092194     46.613539   \n",
            "3         69.297008            24.652878              44.311238     44.644130   \n",
            "4         49.712859             9.652075              28.317406     40.060784   \n",
            "\n",
            "   pelvic_radius  degree_spondylolisthesis     class  \n",
            "0      98.672917                 -0.254400  Abnormal  \n",
            "1     114.405425                  4.564259  Abnormal  \n",
            "2     105.985135                 -3.530317  Abnormal  \n",
            "3     101.868495                 11.211523  Abnormal  \n",
            "4     108.168725                  7.918501  Abnormal  \n",
            "<class 'pandas.core.frame.DataFrame'>\n",
            "RangeIndex: 310 entries, 0 to 309\n",
            "Data columns (total 7 columns):\n",
            " #   Column                    Non-Null Count  Dtype  \n",
            "---  ------                    --------------  -----  \n",
            " 0   pelvic_incidence          310 non-null    float64\n",
            " 1   pelvic_tilt numeric       310 non-null    float64\n",
            " 2   lumbar_lordosis_angle     310 non-null    float64\n",
            " 3   sacral_slope              310 non-null    float64\n",
            " 4   pelvic_radius             310 non-null    float64\n",
            " 5   degree_spondylolisthesis  310 non-null    float64\n",
            " 6   class                     310 non-null    object \n",
            "dtypes: float64(6), object(1)\n",
            "memory usage: 17.1+ KB\n"
          ]
        },
        {
          "output_type": "execute_result",
          "data": {
            "text/plain": [
              "       pelvic_incidence  pelvic_tilt numeric  lumbar_lordosis_angle  \\\n",
              "count        310.000000           310.000000             310.000000   \n",
              "mean          60.496653            17.542822              51.930930   \n",
              "std           17.236520            10.008330              18.554064   \n",
              "min           26.147921            -6.554948              14.000000   \n",
              "25%           46.430294            10.667069              37.000000   \n",
              "50%           58.691038            16.357689              49.562398   \n",
              "75%           72.877696            22.120395              63.000000   \n",
              "max          129.834041            49.431864             125.742385   \n",
              "\n",
              "       sacral_slope  pelvic_radius  degree_spondylolisthesis  \n",
              "count    310.000000     310.000000                310.000000  \n",
              "mean      42.953831     117.920655                 26.296694  \n",
              "std       13.423102      13.317377                 37.559027  \n",
              "min       13.366931      70.082575                -11.058179  \n",
              "25%       33.347122     110.709196                  1.603727  \n",
              "50%       42.404912     118.268178                 11.767934  \n",
              "75%       52.695888     125.467674                 41.287352  \n",
              "max      121.429566     163.071041                418.543082  "
            ],
            "text/html": [
              "\n",
              "  <div id=\"df-97a49cb1-95f0-4d1a-8022-cd0a16fc7b02\" class=\"colab-df-container\">\n",
              "    <div>\n",
              "<style scoped>\n",
              "    .dataframe tbody tr th:only-of-type {\n",
              "        vertical-align: middle;\n",
              "    }\n",
              "\n",
              "    .dataframe tbody tr th {\n",
              "        vertical-align: top;\n",
              "    }\n",
              "\n",
              "    .dataframe thead th {\n",
              "        text-align: right;\n",
              "    }\n",
              "</style>\n",
              "<table border=\"1\" class=\"dataframe\">\n",
              "  <thead>\n",
              "    <tr style=\"text-align: right;\">\n",
              "      <th></th>\n",
              "      <th>pelvic_incidence</th>\n",
              "      <th>pelvic_tilt numeric</th>\n",
              "      <th>lumbar_lordosis_angle</th>\n",
              "      <th>sacral_slope</th>\n",
              "      <th>pelvic_radius</th>\n",
              "      <th>degree_spondylolisthesis</th>\n",
              "    </tr>\n",
              "  </thead>\n",
              "  <tbody>\n",
              "    <tr>\n",
              "      <th>count</th>\n",
              "      <td>310.000000</td>\n",
              "      <td>310.000000</td>\n",
              "      <td>310.000000</td>\n",
              "      <td>310.000000</td>\n",
              "      <td>310.000000</td>\n",
              "      <td>310.000000</td>\n",
              "    </tr>\n",
              "    <tr>\n",
              "      <th>mean</th>\n",
              "      <td>60.496653</td>\n",
              "      <td>17.542822</td>\n",
              "      <td>51.930930</td>\n",
              "      <td>42.953831</td>\n",
              "      <td>117.920655</td>\n",
              "      <td>26.296694</td>\n",
              "    </tr>\n",
              "    <tr>\n",
              "      <th>std</th>\n",
              "      <td>17.236520</td>\n",
              "      <td>10.008330</td>\n",
              "      <td>18.554064</td>\n",
              "      <td>13.423102</td>\n",
              "      <td>13.317377</td>\n",
              "      <td>37.559027</td>\n",
              "    </tr>\n",
              "    <tr>\n",
              "      <th>min</th>\n",
              "      <td>26.147921</td>\n",
              "      <td>-6.554948</td>\n",
              "      <td>14.000000</td>\n",
              "      <td>13.366931</td>\n",
              "      <td>70.082575</td>\n",
              "      <td>-11.058179</td>\n",
              "    </tr>\n",
              "    <tr>\n",
              "      <th>25%</th>\n",
              "      <td>46.430294</td>\n",
              "      <td>10.667069</td>\n",
              "      <td>37.000000</td>\n",
              "      <td>33.347122</td>\n",
              "      <td>110.709196</td>\n",
              "      <td>1.603727</td>\n",
              "    </tr>\n",
              "    <tr>\n",
              "      <th>50%</th>\n",
              "      <td>58.691038</td>\n",
              "      <td>16.357689</td>\n",
              "      <td>49.562398</td>\n",
              "      <td>42.404912</td>\n",
              "      <td>118.268178</td>\n",
              "      <td>11.767934</td>\n",
              "    </tr>\n",
              "    <tr>\n",
              "      <th>75%</th>\n",
              "      <td>72.877696</td>\n",
              "      <td>22.120395</td>\n",
              "      <td>63.000000</td>\n",
              "      <td>52.695888</td>\n",
              "      <td>125.467674</td>\n",
              "      <td>41.287352</td>\n",
              "    </tr>\n",
              "    <tr>\n",
              "      <th>max</th>\n",
              "      <td>129.834041</td>\n",
              "      <td>49.431864</td>\n",
              "      <td>125.742385</td>\n",
              "      <td>121.429566</td>\n",
              "      <td>163.071041</td>\n",
              "      <td>418.543082</td>\n",
              "    </tr>\n",
              "  </tbody>\n",
              "</table>\n",
              "</div>\n",
              "    <div class=\"colab-df-buttons\">\n",
              "\n",
              "  <div class=\"colab-df-container\">\n",
              "    <button class=\"colab-df-convert\" onclick=\"convertToInteractive('df-97a49cb1-95f0-4d1a-8022-cd0a16fc7b02')\"\n",
              "            title=\"Convert this dataframe to an interactive table.\"\n",
              "            style=\"display:none;\">\n",
              "\n",
              "  <svg xmlns=\"http://www.w3.org/2000/svg\" height=\"24px\" viewBox=\"0 -960 960 960\">\n",
              "    <path d=\"M120-120v-720h720v720H120Zm60-500h600v-160H180v160Zm220 220h160v-160H400v160Zm0 220h160v-160H400v160ZM180-400h160v-160H180v160Zm440 0h160v-160H620v160ZM180-180h160v-160H180v160Zm440 0h160v-160H620v160Z\"/>\n",
              "  </svg>\n",
              "    </button>\n",
              "\n",
              "  <style>\n",
              "    .colab-df-container {\n",
              "      display:flex;\n",
              "      gap: 12px;\n",
              "    }\n",
              "\n",
              "    .colab-df-convert {\n",
              "      background-color: #E8F0FE;\n",
              "      border: none;\n",
              "      border-radius: 50%;\n",
              "      cursor: pointer;\n",
              "      display: none;\n",
              "      fill: #1967D2;\n",
              "      height: 32px;\n",
              "      padding: 0 0 0 0;\n",
              "      width: 32px;\n",
              "    }\n",
              "\n",
              "    .colab-df-convert:hover {\n",
              "      background-color: #E2EBFA;\n",
              "      box-shadow: 0px 1px 2px rgba(60, 64, 67, 0.3), 0px 1px 3px 1px rgba(60, 64, 67, 0.15);\n",
              "      fill: #174EA6;\n",
              "    }\n",
              "\n",
              "    .colab-df-buttons div {\n",
              "      margin-bottom: 4px;\n",
              "    }\n",
              "\n",
              "    [theme=dark] .colab-df-convert {\n",
              "      background-color: #3B4455;\n",
              "      fill: #D2E3FC;\n",
              "    }\n",
              "\n",
              "    [theme=dark] .colab-df-convert:hover {\n",
              "      background-color: #434B5C;\n",
              "      box-shadow: 0px 1px 3px 1px rgba(0, 0, 0, 0.15);\n",
              "      filter: drop-shadow(0px 1px 2px rgba(0, 0, 0, 0.3));\n",
              "      fill: #FFFFFF;\n",
              "    }\n",
              "  </style>\n",
              "\n",
              "    <script>\n",
              "      const buttonEl =\n",
              "        document.querySelector('#df-97a49cb1-95f0-4d1a-8022-cd0a16fc7b02 button.colab-df-convert');\n",
              "      buttonEl.style.display =\n",
              "        google.colab.kernel.accessAllowed ? 'block' : 'none';\n",
              "\n",
              "      async function convertToInteractive(key) {\n",
              "        const element = document.querySelector('#df-97a49cb1-95f0-4d1a-8022-cd0a16fc7b02');\n",
              "        const dataTable =\n",
              "          await google.colab.kernel.invokeFunction('convertToInteractive',\n",
              "                                                    [key], {});\n",
              "        if (!dataTable) return;\n",
              "\n",
              "        const docLinkHtml = 'Like what you see? Visit the ' +\n",
              "          '<a target=\"_blank\" href=https://colab.research.google.com/notebooks/data_table.ipynb>data table notebook</a>'\n",
              "          + ' to learn more about interactive tables.';\n",
              "        element.innerHTML = '';\n",
              "        dataTable['output_type'] = 'display_data';\n",
              "        await google.colab.output.renderOutput(dataTable, element);\n",
              "        const docLink = document.createElement('div');\n",
              "        docLink.innerHTML = docLinkHtml;\n",
              "        element.appendChild(docLink);\n",
              "      }\n",
              "    </script>\n",
              "  </div>\n",
              "\n",
              "\n",
              "<div id=\"df-7c60f22b-3cd8-499c-9831-73b5cb72650c\">\n",
              "  <button class=\"colab-df-quickchart\" onclick=\"quickchart('df-7c60f22b-3cd8-499c-9831-73b5cb72650c')\"\n",
              "            title=\"Suggest charts.\"\n",
              "            style=\"display:none;\">\n",
              "\n",
              "<svg xmlns=\"http://www.w3.org/2000/svg\" height=\"24px\"viewBox=\"0 0 24 24\"\n",
              "     width=\"24px\">\n",
              "    <g>\n",
              "        <path d=\"M19 3H5c-1.1 0-2 .9-2 2v14c0 1.1.9 2 2 2h14c1.1 0 2-.9 2-2V5c0-1.1-.9-2-2-2zM9 17H7v-7h2v7zm4 0h-2V7h2v10zm4 0h-2v-4h2v4z\"/>\n",
              "    </g>\n",
              "</svg>\n",
              "  </button>\n",
              "\n",
              "<style>\n",
              "  .colab-df-quickchart {\n",
              "      --bg-color: #E8F0FE;\n",
              "      --fill-color: #1967D2;\n",
              "      --hover-bg-color: #E2EBFA;\n",
              "      --hover-fill-color: #174EA6;\n",
              "      --disabled-fill-color: #AAA;\n",
              "      --disabled-bg-color: #DDD;\n",
              "  }\n",
              "\n",
              "  [theme=dark] .colab-df-quickchart {\n",
              "      --bg-color: #3B4455;\n",
              "      --fill-color: #D2E3FC;\n",
              "      --hover-bg-color: #434B5C;\n",
              "      --hover-fill-color: #FFFFFF;\n",
              "      --disabled-bg-color: #3B4455;\n",
              "      --disabled-fill-color: #666;\n",
              "  }\n",
              "\n",
              "  .colab-df-quickchart {\n",
              "    background-color: var(--bg-color);\n",
              "    border: none;\n",
              "    border-radius: 50%;\n",
              "    cursor: pointer;\n",
              "    display: none;\n",
              "    fill: var(--fill-color);\n",
              "    height: 32px;\n",
              "    padding: 0;\n",
              "    width: 32px;\n",
              "  }\n",
              "\n",
              "  .colab-df-quickchart:hover {\n",
              "    background-color: var(--hover-bg-color);\n",
              "    box-shadow: 0 1px 2px rgba(60, 64, 67, 0.3), 0 1px 3px 1px rgba(60, 64, 67, 0.15);\n",
              "    fill: var(--button-hover-fill-color);\n",
              "  }\n",
              "\n",
              "  .colab-df-quickchart-complete:disabled,\n",
              "  .colab-df-quickchart-complete:disabled:hover {\n",
              "    background-color: var(--disabled-bg-color);\n",
              "    fill: var(--disabled-fill-color);\n",
              "    box-shadow: none;\n",
              "  }\n",
              "\n",
              "  .colab-df-spinner {\n",
              "    border: 2px solid var(--fill-color);\n",
              "    border-color: transparent;\n",
              "    border-bottom-color: var(--fill-color);\n",
              "    animation:\n",
              "      spin 1s steps(1) infinite;\n",
              "  }\n",
              "\n",
              "  @keyframes spin {\n",
              "    0% {\n",
              "      border-color: transparent;\n",
              "      border-bottom-color: var(--fill-color);\n",
              "      border-left-color: var(--fill-color);\n",
              "    }\n",
              "    20% {\n",
              "      border-color: transparent;\n",
              "      border-left-color: var(--fill-color);\n",
              "      border-top-color: var(--fill-color);\n",
              "    }\n",
              "    30% {\n",
              "      border-color: transparent;\n",
              "      border-left-color: var(--fill-color);\n",
              "      border-top-color: var(--fill-color);\n",
              "      border-right-color: var(--fill-color);\n",
              "    }\n",
              "    40% {\n",
              "      border-color: transparent;\n",
              "      border-right-color: var(--fill-color);\n",
              "      border-top-color: var(--fill-color);\n",
              "    }\n",
              "    60% {\n",
              "      border-color: transparent;\n",
              "      border-right-color: var(--fill-color);\n",
              "    }\n",
              "    80% {\n",
              "      border-color: transparent;\n",
              "      border-right-color: var(--fill-color);\n",
              "      border-bottom-color: var(--fill-color);\n",
              "    }\n",
              "    90% {\n",
              "      border-color: transparent;\n",
              "      border-bottom-color: var(--fill-color);\n",
              "    }\n",
              "  }\n",
              "</style>\n",
              "\n",
              "  <script>\n",
              "    async function quickchart(key) {\n",
              "      const quickchartButtonEl =\n",
              "        document.querySelector('#' + key + ' button');\n",
              "      quickchartButtonEl.disabled = true;  // To prevent multiple clicks.\n",
              "      quickchartButtonEl.classList.add('colab-df-spinner');\n",
              "      try {\n",
              "        const charts = await google.colab.kernel.invokeFunction(\n",
              "            'suggestCharts', [key], {});\n",
              "      } catch (error) {\n",
              "        console.error('Error during call to suggestCharts:', error);\n",
              "      }\n",
              "      quickchartButtonEl.classList.remove('colab-df-spinner');\n",
              "      quickchartButtonEl.classList.add('colab-df-quickchart-complete');\n",
              "    }\n",
              "    (() => {\n",
              "      let quickchartButtonEl =\n",
              "        document.querySelector('#df-7c60f22b-3cd8-499c-9831-73b5cb72650c button');\n",
              "      quickchartButtonEl.style.display =\n",
              "        google.colab.kernel.accessAllowed ? 'block' : 'none';\n",
              "    })();\n",
              "  </script>\n",
              "</div>\n",
              "    </div>\n",
              "  </div>\n"
            ]
          },
          "metadata": {},
          "execution_count": 273
        }
      ],
      "source": [
        "from google.colab import drive\n",
        "import numpy as np\n",
        "import pandas as pd\n",
        "drive.mount('/content/drive')\n",
        "df = pd.read_csv('/content/drive/My Drive/column_2C_weka.csv')\n",
        "#print(df)\n",
        "X=np.array(df.iloc[:,:-1])\n",
        "Y=np.array(df.iloc[:,-1])\n",
        "#print(df)\n",
        "# print(X)\n",
        "# print(y)\n",
        "print(df.head())\n",
        "df.info()\n",
        "df.describe()"
      ]
    },
    {
      "cell_type": "markdown",
      "source": [
        "**Task:2**"
      ],
      "metadata": {
        "id": "64lxkfZjHETq"
      }
    },
    {
      "cell_type": "code",
      "source": [
        "# For data creation and other tasks\n",
        "import numpy as np\n",
        "import random\n",
        "import pandas as pd\n",
        "import math\n",
        "## Mertics to evaluate the models\n",
        "from sklearn . metrics import accuracy_score # for Logistic Regression\n",
        "# For plotting the graphs ..\n",
        "import matplotlib . pyplot as plt\n",
        "%matplotlib inline\n",
        "import seaborn as sns\n",
        "# For spliting the data into 80:20 ratio\n",
        "from sklearn . model_selection import train_test_split"
      ],
      "metadata": {
        "id": "mrCVLV43HHAS"
      },
      "execution_count": null,
      "outputs": []
    },
    {
      "cell_type": "markdown",
      "source": [
        "**Task:3**"
      ],
      "metadata": {
        "id": "Z2Q9OgQlHhyF"
      }
    },
    {
      "cell_type": "code",
      "source": [
        "def weightInitialization ( n_features ):\n",
        "  w = np.zeros((n_features, 1))\n",
        "  b = 0\n",
        "  return w,b"
      ],
      "metadata": {
        "id": "ybWNJClIHmm_"
      },
      "execution_count": null,
      "outputs": []
    },
    {
      "cell_type": "markdown",
      "source": [
        "**Task:4**"
      ],
      "metadata": {
        "id": "KAh43eB8JlOM"
      }
    },
    {
      "cell_type": "code",
      "source": [
        "def sigmoid_activation(z):\n",
        "    Y = 1 / (1 + np.exp(-z))\n",
        "    return Y\n"
      ],
      "metadata": {
        "id": "GYFmw6l0JqH3"
      },
      "execution_count": null,
      "outputs": []
    },
    {
      "cell_type": "markdown",
      "source": [
        "**Task:5**"
      ],
      "metadata": {
        "id": "_9izVQjwJ4ai"
      }
    },
    {
      "cell_type": "code",
      "source": [
        "def model_optimize(w, b, X, Y):\n",
        "    m = X.shape[1]\n",
        "    Y=Y.reshape(len(Y),1)\n",
        "\n",
        "    z = np.dot(X,w) + b\n",
        "    A = sigmoid_activation(z)\n",
        "\n",
        "    cost = -1/m * np.sum(Y * np.log(A) + (1 - Y) * np.log(1 - A))\n",
        "\n",
        "    dz = A - Y\n",
        "\n",
        "    dw = 1/m * np.dot(X.T,dz)\n",
        "\n",
        "    db = 1/m * np.sum(dz)\n",
        "\n",
        "    grads = {\"dw\": dw, \"db\": db}\n",
        "\n",
        "    return grads, cost"
      ],
      "metadata": {
        "id": "gQTZL6QsJ71v"
      },
      "execution_count": null,
      "outputs": []
    },
    {
      "cell_type": "markdown",
      "source": [
        "**Task:6**"
      ],
      "metadata": {
        "id": "p3Dtg55QQyEK"
      }
    },
    {
      "cell_type": "code",
      "source": [
        "def model_fit(w, b, X, Y, learning_rate, no_iterations):\n",
        "    costs = []\n",
        "\n",
        "    for i in range(no_iterations):\n",
        "        grads, cost = model_optimize(w, b, X, Y)\n",
        "        dw = grads[\"dw\"]\n",
        "        db = grads[\"db\"]\n",
        "\n",
        "\n",
        "        w = w - (learning_rate * dw)\n",
        "\n",
        "        b = b - (learning_rate * db)\n",
        "\n",
        "        if (i % 10 == 0):\n",
        "            costs.append(cost)\n",
        "    coeff = {\"w\": w, \"b\": b}\n",
        "\n",
        "    return coeff, costs"
      ],
      "metadata": {
        "id": "lQRuvH-NQ0cC"
      },
      "execution_count": null,
      "outputs": []
    },
    {
      "cell_type": "markdown",
      "source": [
        "**Text:7**"
      ],
      "metadata": {
        "id": "jNdfFqxX9T7Y"
      }
    },
    {
      "cell_type": "code",
      "source": [
        "Y = (Y == \"Abnormal\")\n",
        "X_train, X_test, Y_train, Y_test = train_test_split(X, Y, test_size=0.3, random_state=42)\n",
        "\n",
        "\n",
        "w, b = weightInitialization(X_train.shape[1])\n",
        "\n",
        "coeff, costs = model_fit(w, b, X_train, Y_train, learning_rate=0.000001, no_iterations=1000)\n",
        "\n",
        "w_final = coeff[\"w\"]\n",
        "b_final = coeff[\"b\"]\n",
        "\n",
        "\n",
        "def predict(X, w, b):\n",
        "    z = np.dot(X, w) + b\n",
        "    A = sigmoid_activation(z)\n",
        "    return (A >= 0.5).astype(int)\n",
        "\n",
        "Y_pred = predict(X_test, w_final, b_final)\n",
        "Y_test = Y_test.astype(int)\n",
        "Y_pred = Y_pred.astype(int)\n",
        "\n",
        "accuracy = accuracy_score(Y_test, Y_pred)\n",
        "print(\"Accuracy:\", accuracy*100,\"%\")"
      ],
      "metadata": {
        "colab": {
          "base_uri": "https://localhost:8080/"
        },
        "id": "PNgOh08m9XW3",
        "outputId": "e35d1537-534a-4db4-a7b7-02242b518367"
      },
      "execution_count": null,
      "outputs": [
        {
          "output_type": "stream",
          "name": "stdout",
          "text": [
            "Accuracy: 83.87096774193549 %\n"
          ]
        }
      ]
    },
    {
      "cell_type": "markdown",
      "source": [
        "**Task:8**"
      ],
      "metadata": {
        "id": "HMzofFcJ9eg4"
      }
    },
    {
      "cell_type": "code",
      "source": [
        "n_features = X.shape[1]\n",
        "w, b = weightInitialization(n_features)\n",
        "\n",
        "learning_rate = 0.000001\n",
        "no_iterations = 100\n",
        "\n",
        "coeff, costs = model_fit(w, b, X, Y, learning_rate, no_iterations)\n",
        "\n",
        "plt.plot(range(0, no_iterations, 10), costs, marker='o')\n",
        "plt.xlabel('Epochs')\n",
        "plt.ylabel('Cost')\n",
        "plt.title('Cost vs. Epoch Curve')\n",
        "plt.show()"
      ],
      "metadata": {
        "colab": {
          "base_uri": "https://localhost:8080/",
          "height": 472
        },
        "id": "I2k1xgKVkW9P",
        "outputId": "c20aa7f6-dcb9-4d47-9cc1-e0b070446670"
      },
      "execution_count": null,
      "outputs": [
        {
          "output_type": "display_data",
          "data": {
            "text/plain": [
              "<Figure size 640x480 with 1 Axes>"
            ],
            "image/png": "[encoded data removed]"
          },
          "metadata": {}
        }
      ]
    },
    {
      "cell_type": "markdown",
      "source": [
        "**Task:9**"
      ],
      "metadata": {
        "id": "NII-OWuWlW7-"
      }
    },
    {
      "cell_type": "code",
      "source": [
        "def train_and_evaluate(X, Y, train_percentage):\n",
        "    X_train, X_test, Y_train, Y_test = train_test_split(X, Y, test_size=1-train_percentage, random_state=42)\n",
        "    n_features = X_train.shape[1]\n",
        "    w, b = weightInitialization(n_features)\n",
        "    learning_rate = 0.000001\n",
        "    no_iterations = 100\n",
        "\n",
        "    coeff, _ = model_fit(w, b, X_train, Y_train, learning_rate, no_iterations)\n",
        "\n",
        "    z = np.dot(X_test, coeff[\"w\"]) + coeff[\"b\"]\n",
        "    predictions = sigmoid_activation(z)\n",
        "    predictions = (predictions > 0.5).astype(int)\n",
        "\n",
        "    accuracy = accuracy_score(Y_test, predictions)\n",
        "\n",
        "    return accuracy\n",
        "training_percentages = [0.1, 0.2, 0.3, 0.4, 0.5, 0.6, 0.7, 0.8, 0.9]\n",
        "\n",
        "accuracies = []\n",
        "for percentage in training_percentages:\n",
        "    accuracy = train_and_evaluate(X, Y, percentage)\n",
        "    accuracies.append(accuracy)\n",
        "\n",
        "for i, percentage in enumerate(training_percentages):\n",
        "    print(f\"Accuracy using {percentage*100}% of training data: {accuracies[i]*100}%\")"
      ],
      "metadata": {
        "colab": {
          "base_uri": "https://localhost:8080/"
        },
        "id": "7WUKE0yMlZQP",
        "outputId": "9aebec6b-34e9-4b9d-85d1-e48df6db3b7c"
      },
      "execution_count": null,
      "outputs": [
        {
          "output_type": "stream",
          "name": "stdout",
          "text": [
            "Accuracy using 10.0% of training data: 67.38351254480287%\n",
            "Accuracy using 20.0% of training data: 67.74193548387096%\n",
            "Accuracy using 30.0% of training data: 69.12442396313364%\n",
            "Accuracy using 40.0% of training data: 70.96774193548387%\n",
            "Accuracy using 50.0% of training data: 70.96774193548387%\n",
            "Accuracy using 60.0% of training data: 75.0%\n",
            "Accuracy using 70.0% of training data: 76.59574468085107%\n",
            "Accuracy using 80.0% of training data: 70.96774193548387%\n",
            "Accuracy using 90.0% of training data: 83.87096774193549%\n"
          ]
        }
      ]
    },
    {
      "cell_type": "markdown",
      "source": [
        "**Task:10**"
      ],
      "metadata": {
        "id": "44GI00T9luFX"
      }
    },
    {
      "cell_type": "code",
      "source": [
        "def model_optimize_with_regularization(w, b, X, Y, reg=None, lambda_val=0.1):\n",
        "    m = X.shape[1]\n",
        "    Y = Y.reshape(len(Y), 1)\n",
        "    z = np.dot(X, w) + b\n",
        "    A = sigmoid_activation(z)\n",
        "\n",
        "    if reg == \"L1\":\n",
        "        reg_term = (lambda_val / (2 * m)) * np.sum(np.abs(w))\n",
        "    elif reg == \"L2\":\n",
        "        reg_term = (lambda_val / (2 * m)) * np.sum(w**2)\n",
        "    else:\n",
        "        reg_term = 0\n",
        "\n",
        "    cost = -1/m * np.sum(Y * np.log(A) + (1 - Y) * np.log(1 - A)) + reg_term\n",
        "    dz = A - Y\n",
        "    dw = 1/m * np.dot(X.T, dz)\n",
        "    db = 1/m * np.sum(dz)\n",
        "\n",
        "    if reg == \"L1\":\n",
        "        dw += (lambda_val / m) * np.sign(w)\n",
        "    elif reg == \"L2\":\n",
        "        dw += (lambda_val / m) * w\n",
        "\n",
        "    grads = {\"dw\": dw, \"db\": db}\n",
        "\n",
        "    return grads, cost"
      ],
      "metadata": {
        "id": "0EUwaPOulwWp"
      },
      "execution_count": null,
      "outputs": []
    },
    {
      "cell_type": "markdown",
      "source": [
        "**Task:11**"
      ],
      "metadata": {
        "id": "1xlxeOr4m2wQ"
      }
    },
    {
      "cell_type": "code",
      "source": [
        "def train_with_regularization(X_train, Y_train, X_test, Y_test, epochs, reg_options, reg_coefficients):\n",
        "    results = []\n",
        "\n",
        "    for reg_option in reg_options:\n",
        "        for reg_coefficient in reg_coefficients:\n",
        "            w, b = weightInitialization(X_train.shape[1])\n",
        "            grads, _ = model_optimize_with_regularization(w, b, X_train, Y_train, reg=reg_option, lambda_val=reg_coefficient)\n",
        "\n",
        "            w = grads[\"dw\"]\n",
        "            b = grads[\"db\"]\n",
        "            z = np.dot(X_test, w) + b\n",
        "            predictions = sigmoid_activation(z)\n",
        "            predictions = (predictions > 0.5).astype(int)\n",
        "\n",
        "            accuracy = accuracy_score(Y_test, predictions)\n",
        "\n",
        "            results.append([reg_option, reg_coefficient, accuracy])\n",
        "\n",
        "    return results\n",
        "\n",
        "reg_options = [None, \"L1\", \"L2\"]\n",
        "reg_coefficients = [0.01, 0.1, 1]\n",
        "\n",
        "results = train_with_regularization(X_train, Y_train, X_test, Y_test, epochs=100, reg_options=reg_options, reg_coefficients=reg_coefficients)\n",
        "\n",
        "results_df = pd.DataFrame(results, columns=['Regularization', 'Lambda', 'Test Accuracy'])\n",
        "print(results_df)\n"
      ],
      "metadata": {
        "colab": {
          "base_uri": "https://localhost:8080/"
        },
        "id": "Cszl-sAmm4p4",
        "outputId": "74a2393f-6d82-4cd1-c533-296f711253a7"
      },
      "execution_count": null,
      "outputs": [
        {
          "output_type": "stream",
          "name": "stdout",
          "text": [
            "  Regularization  Lambda  Test Accuracy\n",
            "0           None    0.01       0.258065\n",
            "1           None    0.10       0.258065\n",
            "2           None    1.00       0.258065\n",
            "3             L1    0.01       0.258065\n",
            "4             L1    0.10       0.258065\n",
            "5             L1    1.00       0.258065\n",
            "6             L2    0.01       0.258065\n",
            "7             L2    0.10       0.258065\n",
            "8             L2    1.00       0.258065\n"
          ]
        },
        {
          "output_type": "stream",
          "name": "stderr",
          "text": [
            "<ipython-input-276-3bd92199aa85>:2: RuntimeWarning: overflow encountered in exp\n",
            "  Y = 1 / (1 + np.exp(-z))\n",
            "<ipython-input-276-3bd92199aa85>:2: RuntimeWarning: overflow encountered in exp\n",
            "  Y = 1 / (1 + np.exp(-z))\n",
            "<ipython-input-276-3bd92199aa85>:2: RuntimeWarning: overflow encountered in exp\n",
            "  Y = 1 / (1 + np.exp(-z))\n",
            "<ipython-input-276-3bd92199aa85>:2: RuntimeWarning: overflow encountered in exp\n",
            "  Y = 1 / (1 + np.exp(-z))\n",
            "<ipython-input-276-3bd92199aa85>:2: RuntimeWarning: overflow encountered in exp\n",
            "  Y = 1 / (1 + np.exp(-z))\n",
            "<ipython-input-276-3bd92199aa85>:2: RuntimeWarning: overflow encountered in exp\n",
            "  Y = 1 / (1 + np.exp(-z))\n",
            "<ipython-input-276-3bd92199aa85>:2: RuntimeWarning: overflow encountered in exp\n",
            "  Y = 1 / (1 + np.exp(-z))\n",
            "<ipython-input-276-3bd92199aa85>:2: RuntimeWarning: overflow encountered in exp\n",
            "  Y = 1 / (1 + np.exp(-z))\n",
            "<ipython-input-276-3bd92199aa85>:2: RuntimeWarning: overflow encountered in exp\n",
            "  Y = 1 / (1 + np.exp(-z))\n"
          ]
        }
      ]
    },
    {
      "cell_type": "markdown",
      "source": [
        "**Task:12**"
      ],
      "metadata": {
        "id": "Sk5-n30HpuvM"
      }
    },
    {
      "cell_type": "code",
      "source": [
        "from sklearn.linear_model import LogisticRegression\n",
        "logistic_regression_model = LogisticRegression()\n",
        "\n",
        "logistic_regression_model.fit(X_train, Y_train)\n",
        "\n",
        "predictions = logistic_regression_model.predict(X_test)\n",
        "\n",
        "accuracy = accuracy_score(Y_test, predictions)\n",
        "\n",
        "print(f\"Accuracy using Logistic Regression model: {accuracy*100:.2f}%\")"
      ],
      "metadata": {
        "colab": {
          "base_uri": "https://localhost:8080/"
        },
        "id": "_VxkMjhtpw8t",
        "outputId": "6e551a43-d25e-43d1-cea1-c7acd62db097"
      },
      "execution_count": null,
      "outputs": [
        {
          "output_type": "stream",
          "name": "stdout",
          "text": [
            "Accuracy using Logistic Regression model: 88.17%\n"
          ]
        }
      ]
    },
    {
      "cell_type": "markdown",
      "source": [
        "**Task:13**"
      ],
      "metadata": {
        "id": "nr4RrU-fp9jN"
      }
    },
    {
      "cell_type": "code",
      "source": [
        "from sklearn.tree import DecisionTreeClassifier\n",
        "decision_tree_model = DecisionTreeClassifier()\n",
        "\n",
        "decision_tree_model.fit(X_train, Y_train)\n",
        "\n",
        "predictions = decision_tree_model.predict(X_test)\n",
        "\n",
        "accuracy = accuracy_score(Y_test, predictions)\n",
        "\n",
        "print(f\"Accuracy using Decision Tree model: {accuracy*100:.2f}%\")"
      ],
      "metadata": {
        "colab": {
          "base_uri": "https://localhost:8080/"
        },
        "id": "OJzEiGHEp_rW",
        "outputId": "2d29efa4-eab5-4a6b-cf4a-14ef535eb655"
      },
      "execution_count": null,
      "outputs": [
        {
          "output_type": "stream",
          "name": "stdout",
          "text": [
            "Accuracy using Decision Tree model: 80.65%\n"
          ]
        }
      ]
    },
    {
      "cell_type": "markdown",
      "source": [
        "**Task:14**"
      ],
      "metadata": {
        "id": "SwHBrW-7qMBP"
      }
    },
    {
      "cell_type": "code",
      "source": [
        "from sklearn.naive_bayes import GaussianNB\n",
        "\n",
        "naive_bayes_model = GaussianNB()\n",
        "\n",
        "naive_bayes_model.fit(X_train, Y_train)\n",
        "\n",
        "predictions = naive_bayes_model.predict(X_test)\n",
        "\n",
        "accuracy = accuracy_score(Y_test, predictions)\n",
        "\n",
        "print(f\"Accuracy using Naive Bayes model: {accuracy*100:.2f}%\")"
      ],
      "metadata": {
        "colab": {
          "base_uri": "https://localhost:8080/"
        },
        "id": "Ny0c1RfaqOXn",
        "outputId": "9575058a-2158-4985-e16a-edd154fabed2"
      },
      "execution_count": null,
      "outputs": [
        {
          "output_type": "stream",
          "name": "stdout",
          "text": [
            "Accuracy using Naive Bayes model: 79.57%\n"
          ]
        }
      ]
    }
  ]
}