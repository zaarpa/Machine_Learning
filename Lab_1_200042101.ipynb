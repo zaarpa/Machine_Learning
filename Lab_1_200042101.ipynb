{
  "nbformat": 4,
  "nbformat_minor": 0,
  "metadata": {
    "colab": {
      "provenance": []
    },
    "kernelspec": {
      "name": "python3",
      "display_name": "Python 3"
    },
    "language_info": {
      "name": "python"
    }
  },
  "cells": [
    {
      "cell_type": "markdown",
      "source": [
        "Task-1\n",
        "Here we need to create a one dimensional random numpy array of size 10.\n",
        "Firstly i have imported the numpy as np. In the second line I have initialized a variable named random_array where I will be storing the randomly geenrated array. np.random.randit is the function for generating random integer values in an array. My array will contain integers upto 50 and the array size will be 10. Finally i have printed the array.\n",
        "\n"
      ],
      "metadata": {
        "id": "OMiomuUr6g9C"
      }
    },
    {
      "cell_type": "code",
      "execution_count": 3,
      "metadata": {
        "colab": {
          "base_uri": "https://localhost:8080/"
        },
        "id": "2U9EuUZH4S_G",
        "outputId": "cc89e079-7f4f-4d46-aa9c-e1bec4c3fb32"
      },
      "outputs": [
        {
          "output_type": "stream",
          "name": "stdout",
          "text": [
            "[23  6 24 24 12  1 38 39 23 46]\n"
          ]
        }
      ],
      "source": [
        "import numpy as np\n",
        "random_array = np.random.randint(50, size = 10)\n",
        "print(random_array)"
      ]
    },
    {
      "cell_type": "markdown",
      "source": [
        "Task -2 Here we need tp+o create a two dimensional numpy array of size 7x6 and reshape it to 3x14 array. In the 2nd line the np.arange(42) creates an one dimensional array from 0 to 41 the using reshape I have reshaped it into a 7/6 2D array and stored it in the initial_array. Then finally I have reshaped the initial array to a 3/14 2D array and stored in the final array."
      ],
      "metadata": {
        "id": "TICghQdH-AdH"
      }
    },
    {
      "cell_type": "code",
      "source": [
        "import numpy as np\n",
        "initial_array = np.arange(42).reshape(7,6)\n",
        "final_array = initial_array.reshape(3,14)\n",
        "print(\"initial array: \")\n",
        "print(initial_array)\n",
        "print(\"\\nfinal array\")\n",
        "print(final_array)"
      ],
      "metadata": {
        "colab": {
          "base_uri": "https://localhost:8080/"
        },
        "id": "7B-9wl_0-B_9",
        "outputId": "bd061c47-550d-4b00-beca-4a8121a9ddcd"
      },
      "execution_count": 6,
      "outputs": [
        {
          "output_type": "stream",
          "name": "stdout",
          "text": [
            "initial array: \n",
            "[[ 0  1  2  3  4  5]\n",
            " [ 6  7  8  9 10 11]\n",
            " [12 13 14 15 16 17]\n",
            " [18 19 20 21 22 23]\n",
            " [24 25 26 27 28 29]\n",
            " [30 31 32 33 34 35]\n",
            " [36 37 38 39 40 41]]\n",
            "\n",
            "final array\n",
            "[[ 0  1  2  3  4  5  6  7  8  9 10 11 12 13]\n",
            " [14 15 16 17 18 19 20 21 22 23 24 25 26 27]\n",
            " [28 29 30 31 32 33 34 35 36 37 38 39 40 41]]\n"
          ]
        }
      ]
    },
    {
      "cell_type": "markdown",
      "source": [
        "Task -3 We have to create an array and extract all the odd numbers from it. [array([0,1,2,3,4,5,6,7,8,9])]. new_array%2!=0 This creates a boolean mask where the odd numbers are set to True and the evens are False. We are applying this mask to new_array and storing the True values in the odd_array."
      ],
      "metadata": {
        "id": "CZtNZzEC4UcR"
      }
    },
    {
      "cell_type": "code",
      "source": [
        "import numpy as np\n",
        "new_array = np.arange(10)\n",
        "odd_array = new_array[new_array%2!=0]\n",
        "\n",
        "print(odd_array)"
      ],
      "metadata": {
        "colab": {
          "base_uri": "https://localhost:8080/"
        },
        "id": "wWRBMHv2A90Z",
        "outputId": "3d0f4d7e-46b4-4c5b-e6dd-4d793f8f9e39"
      },
      "execution_count": 11,
      "outputs": [
        {
          "output_type": "stream",
          "name": "stdout",
          "text": [
            "[1 3 5 7 9]\n"
          ]
        }
      ]
    },
    {
      "cell_type": "markdown",
      "source": [
        "Task-4 We have to replace all the odd numbers in the previous array with -1.\n",
        "==> array([ 0, -1, 2, -1, 4, -1, 6, -1, 8, -1]). We are applying the boolean mask in the new_array as the previous task. As it returns the odd values as True then we have set the value -1 to those indexes.  "
      ],
      "metadata": {
        "id": "_8TThHgWDmch"
      }
    },
    {
      "cell_type": "code",
      "source": [
        "import numpy as np\n",
        "new_array = np.arange(10)\n",
        "new_array[new_array%2!=0] = -1\n",
        "print(new_array)"
      ],
      "metadata": {
        "colab": {
          "base_uri": "https://localhost:8080/"
        },
        "id": "GKIleeo2D2qi",
        "outputId": "a77a40f0-eec6-4fec-b0b8-32ad475c76ae"
      },
      "execution_count": 12,
      "outputs": [
        {
          "output_type": "stream",
          "name": "stdout",
          "text": [
            "[ 0 -1  2 -1  4 -1  6 -1  8 -1]\n"
          ]
        }
      ]
    },
    {
      "cell_type": "markdown",
      "source": [
        "Task-5:\n",
        "I have made a copy of the previous array to a new one. Then I did exactly the same as task 4 and then printed both of the arrays."
      ],
      "metadata": {
        "id": "LIfRjuKEEdYz"
      }
    },
    {
      "cell_type": "code",
      "source": [
        "import numpy as np\n",
        "old_array = np.arange(10)\n",
        "new_array = old_array.copy()\n",
        "new_array[new_array%2!=0] = -1\n",
        "print(old_array)\n",
        "print(new_array)"
      ],
      "metadata": {
        "colab": {
          "base_uri": "https://localhost:8080/"
        },
        "id": "8-H0igJmEvn-",
        "outputId": "3ef493d8-731b-4bb9-d5ed-fcff5c686763"
      },
      "execution_count": 15,
      "outputs": [
        {
          "output_type": "stream",
          "name": "stdout",
          "text": [
            "[0 1 2 3 4 5 6 7 8 9]\n",
            "[ 0 -1  2 -1  4 -1  6 -1  8 -1]\n"
          ]
        }
      ]
    },
    {
      "cell_type": "markdown",
      "source": [
        "Task-6:\n",
        "np.where function finds the position where both of the array element matches. But it returns the result as tuples where each element of the tuple represents a dimension of the input arrays. So if we print the 0th element of result tuple then we can get the output as array."
      ],
      "metadata": {
        "id": "rdPsZ9dOFhYw"
      }
    },
    {
      "cell_type": "code",
      "source": [
        "import numpy as np\n",
        "array_a = np.array([1, 2, 3, 2, 3, 4, 3, 4, 5, 6])\n",
        "array_b = np.array([7, 2, 10, 2, 7, 4, 9, 4, 9, 8])\n",
        "result = np.where(array_a == array_b)\n",
        "print(result[0])"
      ],
      "metadata": {
        "colab": {
          "base_uri": "https://localhost:8080/"
        },
        "id": "Tox8W7n4GC4P",
        "outputId": "3d687b64-d6f5-4fc3-a30b-7d2157caad5b"
      },
      "execution_count": 17,
      "outputs": [
        {
          "output_type": "stream",
          "name": "stdout",
          "text": [
            "[1 3 5 7]\n"
          ]
        }
      ]
    },
    {
      "cell_type": "markdown",
      "source": [
        "Task - 7:\n",
        "I have used boolean indexing to find the numbers between 5 and 10. The result array returns the numbers where the conditions meet."
      ],
      "metadata": {
        "id": "bmu33qWpHm_c"
      }
    },
    {
      "cell_type": "code",
      "source": [
        "import numpy as np\n",
        "a = np.array([2, 6, 1, 9, 10, 3, 27])\n",
        "result = a[(a >= 5) & (a <= 10)]\n",
        "print(result)"
      ],
      "metadata": {
        "colab": {
          "base_uri": "https://localhost:8080/"
        },
        "id": "Dl3WpiKfH0Ep",
        "outputId": "b9e86f5c-bd25-40c2-a91e-69c4eb9482bd"
      },
      "execution_count": 18,
      "outputs": [
        {
          "output_type": "stream",
          "name": "stdout",
          "text": [
            "[ 6  9 10]\n"
          ]
        }
      ]
    },
    {
      "cell_type": "markdown",
      "source": [
        "Task-**8** : I have reshaped the arrays in 5/2 matrix. The to merge vertically I have used concatenate and axis=0 which means vertical and axis =1 means horizontal."
      ],
      "metadata": {
        "id": "grpZjU4pJCI3"
      }
    },
    {
      "cell_type": "code",
      "source": [
        "import numpy as np\n",
        "zero_vector = np.zeros(10)\n",
        "ones_vector = np.ones(10)\n",
        "zero_vector = zero_vector.reshape(5,2)\n",
        "ones_vector = ones_vector.reshape(5,2)\n",
        "merged_vertically = np.concatenate((zero_vector, ones_vector), axis=0)\n",
        "merged_horizontally = np.concatenate((zero_vector, ones_vector), axis=1)\n",
        "print(\"Merged Vertically:\")\n",
        "print(merged_vertically)\n",
        "\n",
        "print(\"\\nMerged Horizontally:\")\n",
        "print(merged_horizontally)\n"
      ],
      "metadata": {
        "colab": {
          "base_uri": "https://localhost:8080/"
        },
        "id": "S587pRUFJCgi",
        "outputId": "79c2df08-6681-4b0d-f7f5-a914c68fa847"
      },
      "execution_count": 20,
      "outputs": [
        {
          "output_type": "stream",
          "name": "stdout",
          "text": [
            "Merged Vertically:\n",
            "[[0. 0.]\n",
            " [0. 0.]\n",
            " [0. 0.]\n",
            " [0. 0.]\n",
            " [0. 0.]\n",
            " [1. 1.]\n",
            " [1. 1.]\n",
            " [1. 1.]\n",
            " [1. 1.]\n",
            " [1. 1.]]\n",
            "\n",
            "Merged Horizontally:\n",
            "[[0. 0. 1. 1.]\n",
            " [0. 0. 1. 1.]\n",
            " [0. 0. 1. 1.]\n",
            " [0. 0. 1. 1.]\n",
            " [0. 0. 1. 1.]]\n"
          ]
        }
      ]
    },
    {
      "cell_type": "markdown",
      "source": [
        "Task -9 : np.random.rand() function generates random numbers between 0 and 1. If we dont use randint it will give all fractional values."
      ],
      "metadata": {
        "id": "WIGhwUVpDuJ1"
      }
    },
    {
      "cell_type": "code",
      "source": [
        "import numpy as np\n",
        "random_array = np.random.rand(5, 4)\n",
        "\n",
        "print(random_array)"
      ],
      "metadata": {
        "colab": {
          "base_uri": "https://localhost:8080/"
        },
        "id": "yuGdZUcoLIDE",
        "outputId": "5ef09517-7aa0-46ee-d107-1c3823784ffb"
      },
      "execution_count": 24,
      "outputs": [
        {
          "output_type": "stream",
          "name": "stdout",
          "text": [
            "[[0.98837384 0.10204481 0.20887676 0.16130952]\n",
            " [0.65310833 0.2532916  0.46631077 0.24442559]\n",
            " [0.15896958 0.11037514 0.65632959 0.13818295]\n",
            " [0.19658236 0.36872517 0.82099323 0.09710128]\n",
            " [0.83794491 0.09609841 0.97645947 0.4686512 ]]\n"
          ]
        }
      ]
    },
    {
      "cell_type": "markdown",
      "source": [
        "Task-10 : x array is the sample data with features. y generates an array with only 0 and 1 and the array size will be the sample size."
      ],
      "metadata": {
        "id": "xfB49ZBQLqIF"
      }
    },
    {
      "cell_type": "code",
      "source": [
        "import numpy as np\n",
        "\n",
        "n_samples = 5\n",
        "n_features = 4\n",
        "x = np.random.rand(n_samples, n_features)\n",
        "y = np.random.randint(0, 2, n_samples)\n",
        "\n",
        "print('x =', x)\n",
        "print('y =', y)"
      ],
      "metadata": {
        "colab": {
          "base_uri": "https://localhost:8080/"
        },
        "id": "CneqdGO8Lvv-",
        "outputId": "f4bb3880-47ef-4ff7-a4c0-5fce33462624"
      },
      "execution_count": 25,
      "outputs": [
        {
          "output_type": "stream",
          "name": "stdout",
          "text": [
            "x = [[0.97676109 0.60484552 0.73926358 0.03918779]\n",
            " [0.28280696 0.12019656 0.2961402  0.11872772]\n",
            " [0.31798318 0.41426299 0.0641475  0.69247212]\n",
            " [0.56660145 0.26538949 0.52324805 0.09394051]\n",
            " [0.5759465  0.9292962  0.31856895 0.66741038]]\n",
            "y = [1 0 0 0 0]\n"
          ]
        }
      ]
    },
    {
      "cell_type": "markdown",
      "source": [
        "Task-11: here we need to find the subset of x which matches with the target class value."
      ],
      "metadata": {
        "id": "vUC_cqTEMhc8"
      }
    },
    {
      "cell_type": "code",
      "source": [
        "import numpy as np\n",
        "def extract_subset(x, y, y0):\n",
        "  subset_x = x[y==y0]\n",
        "  return subset_x\n",
        "\n",
        "n_samples = 5\n",
        "n_features = 4\n",
        "x = np.random.rand(n_samples, n_features)\n",
        "\n",
        "y = np.random.randint(0, 2, n_samples)\n",
        "\n",
        "target_class = 0 #y0 in function\n",
        "\n",
        "subset_x = extract_subset(x, y, target_class)\n",
        "\n",
        "print(x)\n",
        "print(y)\n",
        "print(subset_x)"
      ],
      "metadata": {
        "colab": {
          "base_uri": "https://localhost:8080/"
        },
        "id": "hnf-MeMCMjaJ",
        "outputId": "b911ec0c-dcfc-4850-d1d9-da969d9ef0ca"
      },
      "execution_count": 28,
      "outputs": [
        {
          "output_type": "stream",
          "name": "stdout",
          "text": [
            "[[0.22126269 0.1412639  0.09725993 0.98404224]\n",
            " [0.26034093 0.53702252 0.44792617 0.09956909]\n",
            " [0.35231166 0.46924917 0.84114013 0.90464774]\n",
            " [0.03755938 0.50831545 0.16684751 0.77905102]\n",
            " [0.8649333  0.41139672 0.13997259 0.03322239]]\n",
            "[1 1 1 1 0]\n",
            "[[0.8649333  0.41139672 0.13997259 0.03322239]]\n"
          ]
        }
      ]
    },
    {
      "cell_type": "markdown",
      "source": [
        "Task-12:\n",
        "imported the iris datasets from sklearn. Here I have imported the number as iris.data and text labels as target class."
      ],
      "metadata": {
        "id": "FqdnOsnSN8pg"
      }
    },
    {
      "cell_type": "code",
      "source": [
        "from sklearn import datasets\n",
        "iris = datasets.load_iris()\n",
        "X = iris.data\n",
        "target_class = iris.target_names\n",
        "print(\"Data:\\n\", X)\n",
        "print(\"\\nText Labels:\\n\", target_class)"
      ],
      "metadata": {
        "colab": {
          "base_uri": "https://localhost:8080/"
        },
        "id": "UESitF3EOOWm",
        "outputId": "804f93d6-5ae0-428e-b709-7a7e2f5c9c05"
      },
      "execution_count": 31,
      "outputs": [
        {
          "output_type": "stream",
          "name": "stdout",
          "text": [
            "Data:\n",
            " [[5.1 3.5 1.4 0.2]\n",
            " [4.9 3.  1.4 0.2]\n",
            " [4.7 3.2 1.3 0.2]\n",
            " [4.6 3.1 1.5 0.2]\n",
            " [5.  3.6 1.4 0.2]\n",
            " [5.4 3.9 1.7 0.4]\n",
            " [4.6 3.4 1.4 0.3]\n",
            " [5.  3.4 1.5 0.2]\n",
            " [4.4 2.9 1.4 0.2]\n",
            " [4.9 3.1 1.5 0.1]\n",
            " [5.4 3.7 1.5 0.2]\n",
            " [4.8 3.4 1.6 0.2]\n",
            " [4.8 3.  1.4 0.1]\n",
            " [4.3 3.  1.1 0.1]\n",
            " [5.8 4.  1.2 0.2]\n",
            " [5.7 4.4 1.5 0.4]\n",
            " [5.4 3.9 1.3 0.4]\n",
            " [5.1 3.5 1.4 0.3]\n",
            " [5.7 3.8 1.7 0.3]\n",
            " [5.1 3.8 1.5 0.3]\n",
            " [5.4 3.4 1.7 0.2]\n",
            " [5.1 3.7 1.5 0.4]\n",
            " [4.6 3.6 1.  0.2]\n",
            " [5.1 3.3 1.7 0.5]\n",
            " [4.8 3.4 1.9 0.2]\n",
            " [5.  3.  1.6 0.2]\n",
            " [5.  3.4 1.6 0.4]\n",
            " [5.2 3.5 1.5 0.2]\n",
            " [5.2 3.4 1.4 0.2]\n",
            " [4.7 3.2 1.6 0.2]\n",
            " [4.8 3.1 1.6 0.2]\n",
            " [5.4 3.4 1.5 0.4]\n",
            " [5.2 4.1 1.5 0.1]\n",
            " [5.5 4.2 1.4 0.2]\n",
            " [4.9 3.1 1.5 0.2]\n",
            " [5.  3.2 1.2 0.2]\n",
            " [5.5 3.5 1.3 0.2]\n",
            " [4.9 3.6 1.4 0.1]\n",
            " [4.4 3.  1.3 0.2]\n",
            " [5.1 3.4 1.5 0.2]\n",
            " [5.  3.5 1.3 0.3]\n",
            " [4.5 2.3 1.3 0.3]\n",
            " [4.4 3.2 1.3 0.2]\n",
            " [5.  3.5 1.6 0.6]\n",
            " [5.1 3.8 1.9 0.4]\n",
            " [4.8 3.  1.4 0.3]\n",
            " [5.1 3.8 1.6 0.2]\n",
            " [4.6 3.2 1.4 0.2]\n",
            " [5.3 3.7 1.5 0.2]\n",
            " [5.  3.3 1.4 0.2]\n",
            " [7.  3.2 4.7 1.4]\n",
            " [6.4 3.2 4.5 1.5]\n",
            " [6.9 3.1 4.9 1.5]\n",
            " [5.5 2.3 4.  1.3]\n",
            " [6.5 2.8 4.6 1.5]\n",
            " [5.7 2.8 4.5 1.3]\n",
            " [6.3 3.3 4.7 1.6]\n",
            " [4.9 2.4 3.3 1. ]\n",
            " [6.6 2.9 4.6 1.3]\n",
            " [5.2 2.7 3.9 1.4]\n",
            " [5.  2.  3.5 1. ]\n",
            " [5.9 3.  4.2 1.5]\n",
            " [6.  2.2 4.  1. ]\n",
            " [6.1 2.9 4.7 1.4]\n",
            " [5.6 2.9 3.6 1.3]\n",
            " [6.7 3.1 4.4 1.4]\n",
            " [5.6 3.  4.5 1.5]\n",
            " [5.8 2.7 4.1 1. ]\n",
            " [6.2 2.2 4.5 1.5]\n",
            " [5.6 2.5 3.9 1.1]\n",
            " [5.9 3.2 4.8 1.8]\n",
            " [6.1 2.8 4.  1.3]\n",
            " [6.3 2.5 4.9 1.5]\n",
            " [6.1 2.8 4.7 1.2]\n",
            " [6.4 2.9 4.3 1.3]\n",
            " [6.6 3.  4.4 1.4]\n",
            " [6.8 2.8 4.8 1.4]\n",
            " [6.7 3.  5.  1.7]\n",
            " [6.  2.9 4.5 1.5]\n",
            " [5.7 2.6 3.5 1. ]\n",
            " [5.5 2.4 3.8 1.1]\n",
            " [5.5 2.4 3.7 1. ]\n",
            " [5.8 2.7 3.9 1.2]\n",
            " [6.  2.7 5.1 1.6]\n",
            " [5.4 3.  4.5 1.5]\n",
            " [6.  3.4 4.5 1.6]\n",
            " [6.7 3.1 4.7 1.5]\n",
            " [6.3 2.3 4.4 1.3]\n",
            " [5.6 3.  4.1 1.3]\n",
            " [5.5 2.5 4.  1.3]\n",
            " [5.5 2.6 4.4 1.2]\n",
            " [6.1 3.  4.6 1.4]\n",
            " [5.8 2.6 4.  1.2]\n",
            " [5.  2.3 3.3 1. ]\n",
            " [5.6 2.7 4.2 1.3]\n",
            " [5.7 3.  4.2 1.2]\n",
            " [5.7 2.9 4.2 1.3]\n",
            " [6.2 2.9 4.3 1.3]\n",
            " [5.1 2.5 3.  1.1]\n",
            " [5.7 2.8 4.1 1.3]\n",
            " [6.3 3.3 6.  2.5]\n",
            " [5.8 2.7 5.1 1.9]\n",
            " [7.1 3.  5.9 2.1]\n",
            " [6.3 2.9 5.6 1.8]\n",
            " [6.5 3.  5.8 2.2]\n",
            " [7.6 3.  6.6 2.1]\n",
            " [4.9 2.5 4.5 1.7]\n",
            " [7.3 2.9 6.3 1.8]\n",
            " [6.7 2.5 5.8 1.8]\n",
            " [7.2 3.6 6.1 2.5]\n",
            " [6.5 3.2 5.1 2. ]\n",
            " [6.4 2.7 5.3 1.9]\n",
            " [6.8 3.  5.5 2.1]\n",
            " [5.7 2.5 5.  2. ]\n",
            " [5.8 2.8 5.1 2.4]\n",
            " [6.4 3.2 5.3 2.3]\n",
            " [6.5 3.  5.5 1.8]\n",
            " [7.7 3.8 6.7 2.2]\n",
            " [7.7 2.6 6.9 2.3]\n",
            " [6.  2.2 5.  1.5]\n",
            " [6.9 3.2 5.7 2.3]\n",
            " [5.6 2.8 4.9 2. ]\n",
            " [7.7 2.8 6.7 2. ]\n",
            " [6.3 2.7 4.9 1.8]\n",
            " [6.7 3.3 5.7 2.1]\n",
            " [7.2 3.2 6.  1.8]\n",
            " [6.2 2.8 4.8 1.8]\n",
            " [6.1 3.  4.9 1.8]\n",
            " [6.4 2.8 5.6 2.1]\n",
            " [7.2 3.  5.8 1.6]\n",
            " [7.4 2.8 6.1 1.9]\n",
            " [7.9 3.8 6.4 2. ]\n",
            " [6.4 2.8 5.6 2.2]\n",
            " [6.3 2.8 5.1 1.5]\n",
            " [6.1 2.6 5.6 1.4]\n",
            " [7.7 3.  6.1 2.3]\n",
            " [6.3 3.4 5.6 2.4]\n",
            " [6.4 3.1 5.5 1.8]\n",
            " [6.  3.  4.8 1.8]\n",
            " [6.9 3.1 5.4 2.1]\n",
            " [6.7 3.1 5.6 2.4]\n",
            " [6.9 3.1 5.1 2.3]\n",
            " [5.8 2.7 5.1 1.9]\n",
            " [6.8 3.2 5.9 2.3]\n",
            " [6.7 3.3 5.7 2.5]\n",
            " [6.7 3.  5.2 2.3]\n",
            " [6.3 2.5 5.  1.9]\n",
            " [6.5 3.  5.2 2. ]\n",
            " [6.2 3.4 5.4 2.3]\n",
            " [5.9 3.  5.1 1.8]]\n",
            "\n",
            "Text Labels:\n",
            " ['setosa' 'versicolor' 'virginica']\n"
          ]
        }
      ]
    },
    {
      "cell_type": "markdown",
      "source": [
        "Task-13:\n",
        "numpy functions are used for finding out the mean, median and standard deviation. Also added the summary of the whole dataset which includes mean median and std deviation."
      ],
      "metadata": {
        "id": "bgvethcuPEcN"
      }
    },
    {
      "cell_type": "code",
      "source": [
        "from sklearn import datasets\n",
        "iris = datasets.load_iris()\n",
        "\n",
        "X = iris.data\n",
        "first_column = X[:, 0]\n",
        "mean_value = np.mean(first_column)\n",
        "median_value = np.median(first_column)\n",
        "std_dev = np.std(first_column)\n",
        "\n",
        "print(\"Mean:\", mean_value)\n",
        "print(\"Median:\", median_value)\n",
        "print(\"Standard Deviation:\", std_dev)\n",
        "\n",
        "summary_dataset_mean = np.mean(X)\n",
        "print(\"Summary Mean:\",summary_dataset_mean)\n",
        "summary_dataset_median = np.median(X)\n",
        "print(\"Summary Median:\",summary_dataset_median)\n",
        "summary_dataset_std_deviation = np.std(X)\n",
        "print(\"Summary Standard Deviation:\", summary_dataset_std_deviation )"
      ],
      "metadata": {
        "colab": {
          "base_uri": "https://localhost:8080/"
        },
        "id": "ezpATMxnPQqq",
        "outputId": "f8b04a73-9b52-4487-ecc4-f1dc6c3cd43f"
      },
      "execution_count": 37,
      "outputs": [
        {
          "output_type": "stream",
          "name": "stdout",
          "text": [
            "Mean: 5.843333333333334\n",
            "Median: 5.8\n",
            "Standard Deviation: 0.8253012917851409\n",
            "Summary Mean: 3.4644999999999997\n",
            "Summary Median: 3.2\n",
            "Summary Standard Deviation: 1.9738430577598278\n"
          ]
        }
      ]
    }
  ]
}